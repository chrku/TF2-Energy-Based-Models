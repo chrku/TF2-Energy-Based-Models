{
 "cells": [
  {
   "cell_type": "markdown",
   "metadata": {},
   "source": [
    "# Applying energy-based models to images - MNIST\n",
    "\n",
    "Here, I apply EBMs to a simple image dataset (MNIST). First, I begin by describing/implementing different goodness-of-fit scores for image datasets - namely, the inception distance and Frechet inception distance."
   ]
  },
  {
   "cell_type": "code",
   "execution_count": 3,
   "metadata": {},
   "outputs": [],
   "source": [
    "import tensorflow as tf\n",
    "import tensorflow.keras as keras\n",
    "import numpy as np\n",
    "import matplotlib.pyplot as plt\n",
    "import pandas as pd\n",
    "from sgld_sampler import sgld_sample\n",
    "from EBM import EBM\n",
    "from scores import inception_score, frechet_inception_distance"
   ]
  },
  {
   "cell_type": "markdown",
   "metadata": {},
   "source": [
    "## Metrics\n",
    "\n",
    "In order to train the EBMs, I cannot just simply look at the energy function anymore, as there are too\n",
    "many dimensions. Therefore, I will need to rely on metrics that measure the goodness-of-fit and monitor\n",
    "those over the iterations. Two suitable and often-used metrics are the inception score (IS)\n",
    "and Fréchet Inception Distance (FID)."
   ]
  },
  {
   "cell_type": "markdown",
   "metadata": {},
   "source": [
    "### The Inception Score\n",
    "\n",
    "The inception score (IS) is obtained by training a classifier on the dataset and then calculating the following statistic\n",
    "on the generated images:\n",
    "\n",
    "$$\n",
    "    S_{\\mathrm{IS}} = \\exp\\left(\\mathbb{E}_{x \\sim p_g} D_{\\mathrm{KL}}(p(y | x) || p(y))\\right)\n",
    "$$\n",
    "\n",
    "Here, $p(y | x)$ is the conditional distribution of the classifier given the generated image $x$ and\n",
    "$p(y)$ is the marginal distribution, obtained as $p(y) = \\int_x p(y | x) p_g(x) \\approx \\frac{1}{N} \\sum_x p(y | x)$.\n",
    "The inception score attempts to measure both the diversity of generated images and the peakedness of the conditional distribution. Higher values are better.\n",
    "\n",
    "### Fréchet Inception Distance\n",
    "\n",
    "The Fréchet Inception Distance (FID) compares the statistics that are used by the classifier (e.g. the learned filters of the CNN, before the last layer) using the Fréchet distance, which is a distance measure defined for curves. Let $\\mu_g$ be the mean\n",
    "of the statistics of a collection of generated images and $\\Sigma_g$ be the covariance of these statistics. $\\mu_r$ and $\\Sigma_r$ are the mean and covariance of the statistics of a collection of real images. Then the FID is defined as:\n",
    "\n",
    "$$\n",
    "    S_{\\mathrm{FID}} = || \\mu_r - \\mu_g||^2 + \\mathrm{Tr}(\\Sigma_r + \\Sigma_g - 2(\\Sigma_r \\Sigma_g)^{1 / 2})\n",
    "$$\n",
    "\n",
    "This attempts to measure the difference in statistics of generated vs. real images. Lower values are better.\n",
    "\n",
    "Implementations of both follow:"
   ]
  },
  {
   "cell_type": "markdown",
   "metadata": {},
   "source": [
    "### Inception score"
   ]
  },
  {
   "cell_type": "code",
   "execution_count": 2,
   "metadata": {},
   "outputs": [],
   "source": [
    "def inception_score(p_yx):\n",
    "    p_y = np.mean(p_yx, axis=0)\n",
    "    d_kl = np.sum(p_yx * (np.log(p_yx) - np.log(p_y + 1e-6)), axis=1)\n",
    "    return np.exp(np.mean(d_kl))"
   ]
  },
  {
   "cell_type": "markdown",
   "metadata": {},
   "source": [
    "### Fréchet Inception Distance"
   ]
  },
  {
   "cell_type": "code",
   "execution_count": 3,
   "metadata": {},
   "outputs": [],
   "source": [
    "def frechet_inception_distance(statistics_gen, statistics_real):\n",
    "    mu_g = np.mean(statistics_gen, axis=0)\n",
    "    cov_g = np.cov(statistics_gen)\n",
    "    mu_r = np.mean(statistics_real, axis=0)\n",
    "    cov_r = np.cov(statistics_real)\n",
    "    diff_mean = np.sum((mu_g - mu_r) ** 2)\n",
    "    cov_mean_geom = scipy.linalg.sqrtm(cov_r * cov_g)\n",
    "    if np.iscomplexobj(cov_mean_geom):\n",
    "        cov_mean_geom = cov_mean_geom.real\n",
    "    return diff_mean + np.trace(cov_g + cov_r - 2 * cov_mean_geom)"
   ]
  },
  {
   "cell_type": "markdown",
   "metadata": {},
   "source": [
    "### Classifier for IS/FID\n",
    "\n",
    "For using IS/FID, we need a classifier. Therefore, we quickly train a classifier for MNIST. We will use\n",
    "a relatively simple convolutional neural net (CNN).\n",
    "\n",
    "A very simple CNN architecture is the VGG architecture, which consists of VGG blocks, which are a number\n",
    "of convolutional layers followed by max pooling."
   ]
  },
  {
   "cell_type": "code",
   "execution_count": 4,
   "metadata": {},
   "outputs": [],
   "source": [
    "def vgg_block(layer_in, n_filters, n_conv):\n",
    "    # Add convolutional layers\n",
    "    for _ in range(n_conv):\n",
    "        layer_in = keras.layers.Conv2D(n_filters, (3,3), padding='same', activation='relu')(layer_in)\n",
    "    # Add max pooling layer\n",
    "    layer_in = keras.layers.MaxPooling2D((2,2), strides=(2,2))(layer_in)\n",
    "    return layer_in"
   ]
  },
  {
   "cell_type": "markdown",
   "metadata": {},
   "source": [
    "#### Defining the model"
   ]
  },
  {
   "cell_type": "code",
   "execution_count": 5,
   "metadata": {},
   "outputs": [
    {
     "name": "stdout",
     "output_type": "stream",
     "text": [
      "Model: \"model\"\n",
      "_________________________________________________________________\n",
      "Layer (type)                 Output Shape              Param #   \n",
      "=================================================================\n",
      "input_1 (InputLayer)         [(None, 28, 28, 1)]       0         \n",
      "_________________________________________________________________\n",
      "conv2d (Conv2D)              (None, 28, 28, 128)       1280      \n",
      "_________________________________________________________________\n",
      "conv2d_1 (Conv2D)            (None, 28, 28, 128)       147584    \n",
      "_________________________________________________________________\n",
      "conv2d_2 (Conv2D)            (None, 28, 28, 128)       147584    \n",
      "_________________________________________________________________\n",
      "max_pooling2d (MaxPooling2D) (None, 14, 14, 128)       0         \n",
      "_________________________________________________________________\n",
      "conv2d_3 (Conv2D)            (None, 14, 14, 256)       295168    \n",
      "_________________________________________________________________\n",
      "conv2d_4 (Conv2D)            (None, 14, 14, 256)       590080    \n",
      "_________________________________________________________________\n",
      "conv2d_5 (Conv2D)            (None, 14, 14, 256)       590080    \n",
      "_________________________________________________________________\n",
      "max_pooling2d_1 (MaxPooling2 (None, 7, 7, 256)         0         \n",
      "_________________________________________________________________\n",
      "flatten (Flatten)            (None, 12544)             0         \n",
      "_________________________________________________________________\n",
      "dense (Dense)                (None, 10)                125450    \n",
      "=================================================================\n",
      "Total params: 1,897,226\n",
      "Trainable params: 1,897,226\n",
      "Non-trainable params: 0\n",
      "_________________________________________________________________\n"
     ]
    }
   ],
   "source": [
    "input_ = keras.layers.Input(shape=(28, 28, 1))\n",
    "vgg_1 = vgg_block(input_, 128, 3) # 14, 14, 128\n",
    "vgg_2 = vgg_block(vgg_1, 256, 3) # 7, 7, 256\n",
    "flatten = keras.layers.Flatten()(vgg_2)\n",
    "output = keras.layers.Dense(10, activation='softmax')(flatten)\n",
    "model = keras.Model(inputs=input_, outputs=output)\n",
    "model.summary()"
   ]
  },
  {
   "cell_type": "markdown",
   "metadata": {},
   "source": [
    "#### Loading the training data"
   ]
  },
  {
   "cell_type": "code",
   "execution_count": 4,
   "metadata": {},
   "outputs": [
    {
     "data": {
      "text/plain": [
       "((60000, 28, 28), (60000,))"
      ]
     },
     "execution_count": 4,
     "metadata": {},
     "output_type": "execute_result"
    }
   ],
   "source": [
    "(X_train_full, y_train_full), (X_test, y_test) = keras.datasets.mnist.load_data()\n",
    "X_train_full = X_train_full / 255.0\n",
    "X_test = X_test / 255.0\n",
    "X_train_full.shape, y_train_full.shape"
   ]
  },
  {
   "cell_type": "markdown",
   "metadata": {},
   "source": [
    "#### Training the classifier\n",
    "\n",
    "We use a validation set along with early stopping."
   ]
  },
  {
   "cell_type": "code",
   "execution_count": 9,
   "metadata": {},
   "outputs": [],
   "source": [
    "X_valid, X_train = X_train_full[:5000], X_train_full[5000:]\n",
    "y_valid, y_train = y_train_full[:5000], y_train_full[5000:]"
   ]
  },
  {
   "cell_type": "code",
   "execution_count": 10,
   "metadata": {
    "scrolled": true
   },
   "outputs": [
    {
     "name": "stdout",
     "output_type": "stream",
     "text": [
      "Epoch 1/5\n",
      "1719/1719 [==============================] - 32s 10ms/step - loss: 1.1469 - accuracy: 0.6449 - val_loss: 0.0773 - val_accuracy: 0.9788\n",
      "Epoch 2/5\n",
      "1719/1719 [==============================] - 17s 10ms/step - loss: 0.0796 - accuracy: 0.9752 - val_loss: 0.0578 - val_accuracy: 0.9840\n",
      "Epoch 3/5\n",
      "1719/1719 [==============================] - 17s 10ms/step - loss: 0.0520 - accuracy: 0.9834 - val_loss: 0.0524 - val_accuracy: 0.9862\n",
      "Epoch 4/5\n",
      "1719/1719 [==============================] - 16s 10ms/step - loss: 0.0404 - accuracy: 0.9870 - val_loss: 0.0478 - val_accuracy: 0.9872\n",
      "Epoch 5/5\n",
      "1719/1719 [==============================] - 16s 9ms/step - loss: 0.0312 - accuracy: 0.9903 - val_loss: 0.0384 - val_accuracy: 0.9894\n"
     ]
    }
   ],
   "source": [
    "model.compile(loss=\"sparse_categorical_crossentropy\",\n",
    "              optimizer=\"sgd\", metrics=[\"accuracy\"])\n",
    "early_stopping = keras.callbacks.EarlyStopping(patience=5, \n",
    "                                               restore_best_weights=True)\n",
    "history = model.fit(X_train, y_train, epochs=5,\n",
    "                    validation_data=(X_valid, y_valid),\n",
    "                    callbacks=[early_stopping])"
   ]
  },
  {
   "cell_type": "code",
   "execution_count": 11,
   "metadata": {},
   "outputs": [
    {
     "name": "stderr",
     "output_type": "stream",
     "text": [
      "C:\\Users\\chrku\\anaconda3\\lib\\site-packages\\tensorflow\\python\\keras\\engine\\training.py:2310: UserWarning: `Model.state_updates` will be removed in a future version. This property should not be used in TensorFlow 2.0, as `updates` are applied automatically.\n",
      "  warnings.warn('`Model.state_updates` will be removed in a future version. '\n",
      "C:\\Users\\chrku\\anaconda3\\lib\\site-packages\\tensorflow\\python\\keras\\engine\\base_layer.py:1388: UserWarning: `layer.updates` will be removed in a future version. This property should not be used in TensorFlow 2.0, as `updates` are applied automatically.\n",
      "  warnings.warn('`layer.updates` will be removed in a future version. '\n"
     ]
    },
    {
     "name": "stdout",
     "output_type": "stream",
     "text": [
      "INFO:tensorflow:Assets written to: mnist-classifier-1\\assets\n"
     ]
    }
   ],
   "source": [
    "model.save('mnist-classifier-1')"
   ]
  },
  {
   "cell_type": "markdown",
   "metadata": {},
   "source": [
    "We will use this classifier for our experiments."
   ]
  },
  {
   "cell_type": "code",
   "execution_count": 5,
   "metadata": {},
   "outputs": [],
   "source": [
    "mnist_classifier = keras.models.load_model('mnist-classifier-1')"
   ]
  },
  {
   "cell_type": "code",
   "execution_count": 13,
   "metadata": {
    "scrolled": false
   },
   "outputs": [
    {
     "data": {
      "image/png": "[encoded data removed]",
      "text/plain": [
       "<Figure size 720x720 with 1 Axes>"
      ]
     },
     "metadata": {
      "needs_background": "light"
     },
     "output_type": "display_data"
    }
   ],
   "source": [
    "pd.DataFrame(history.history).plot(figsize=(10,10))\n",
    "plt.grid(True)"
   ]
  },
  {
   "cell_type": "markdown",
   "metadata": {},
   "source": [
    "## Evaluation of network performance\n",
    "\n",
    "To evaluate the network performance, I use metrics, like the IS and FID. The way these are evaluated is that at every batch, they are applied to the generated and real samples. The metrics are then stored in a list. At the end of an epoch, I look at the mean value for each metric of the current epoch and at the last epoch. If the mean value of the current epoch is higher than the mean value of the last epoch, I conclude that the network learned something and save the weights. If not, I conclude that the network has converged or overfit and stop the learning process. For multiple metrics, I perform a majority vote: If the majority agrees that learning occured, I continue. If not, I stop the learning process.\n",
    "\n",
    "At the end of the learning process, the ```EBM``` object records the trend for all metrics and the best values achieved. Note that I assume that for all metrics, it holds that a higher value means a better value; therefore I negate the FID to fit in that framework. "
   ]
  },
  {
   "cell_type": "code",
   "execution_count": 6,
   "metadata": {},
   "outputs": [],
   "source": [
    "def fuse_images(width, height, images, img_width, img_height):\n",
    "    really_big_image = None\n",
    "    for i in range(width):\n",
    "        big_image = None\n",
    "        for j in range(height):\n",
    "            cur_image = images[width * i + j].reshape(img_width, img_height)\n",
    "            if big_image is not None:\n",
    "                big_image = np.hstack((big_image, cur_image))\n",
    "            else:\n",
    "                big_image = cur_image\n",
    "        if really_big_image is not None:\n",
    "            really_big_image = np.vstack((really_big_image, big_image))\n",
    "        else:\n",
    "            really_big_image = big_image\n",
    "    return really_big_image\n",
    "\n",
    "def is_metric_callback(samples_data, samples_energ, it):\n",
    "    p_yx = mnist_classifier(samples_energ).numpy()\n",
    "    score = inception_score(p_yx)\n",
    "    return score\n",
    "\n",
    "# Need last-layer activations for FID\n",
    "mnist_statistics = keras.Model(mnist_classifier.input, mnist_classifier.get_layer(name='flatten').output)\n",
    "\n",
    "def fid_metric_callback(samples_data, samples_energ, it):\n",
    "    stats_gen = mnist_statistics(samples_energ)\n",
    "    stats_real = mnist_statistics(samples_data)\n",
    "    score = frechet_inception_distance(stats_real, stats_gen)\n",
    "    return -score"
   ]
  },
  {
   "cell_type": "markdown",
   "metadata": {},
   "source": [
    "### Training a model"
   ]
  },
  {
   "cell_type": "code",
   "execution_count": 8,
   "metadata": {},
   "outputs": [],
   "source": [
    "def create_model(n_f):\n",
    "    input_ = keras.layers.Input(shape=(28, 28, 1))\n",
    "    conv_1 = keras.layers.Conv2D(n_f, kernel_size=3, padding='same', activation='swish')(input_)\n",
    "    conv_2 = keras.layers.Conv2D(n_f * 2, kernel_size=3, padding='same', activation='swish', strides=2)(conv_1)\n",
    "    conv_3 = keras.layers.Conv2D(n_f * 4, kernel_size=3, padding='same', activation='swish', strides=2)(conv_2)\n",
    "    conv_4 = keras.layers.Conv2D(n_f * 8, kernel_size=3, padding='same', activation='swish', strides=2)(conv_3)\n",
    "    conv_5 = keras.layers.Conv2D(n_f * 16, kernel_size=3, padding='same', activation='swish', strides=2)(conv_4)\n",
    "    output = keras.layers.Dense(units=1)(conv_5)\n",
    "    model_ebm = keras.Model(inputs=input_, outputs=output)\n",
    "    return model_ebm"
   ]
  },
  {
   "cell_type": "code",
   "execution_count": 9,
   "metadata": {},
   "outputs": [
    {
     "name": "stdout",
     "output_type": "stream",
     "text": [
      "Model: \"model_1\"\n",
      "_________________________________________________________________\n",
      "Layer (type)                 Output Shape              Param #   \n",
      "=================================================================\n",
      "input_3 (InputLayer)         [(None, 28, 28, 1)]       0         \n",
      "_________________________________________________________________\n",
      "conv2d_10 (Conv2D)           (None, 28, 28, 16)        160       \n",
      "_________________________________________________________________\n",
      "conv2d_11 (Conv2D)           (None, 14, 14, 32)        4640      \n",
      "_________________________________________________________________\n",
      "conv2d_12 (Conv2D)           (None, 7, 7, 64)          18496     \n",
      "_________________________________________________________________\n",
      "conv2d_13 (Conv2D)           (None, 4, 4, 128)         73856     \n",
      "_________________________________________________________________\n",
      "conv2d_14 (Conv2D)           (None, 2, 2, 256)         295168    \n",
      "_________________________________________________________________\n",
      "dense_2 (Dense)              (None, 2, 2, 1)           257       \n",
      "=================================================================\n",
      "Total params: 392,577\n",
      "Trainable params: 392,577\n",
      "Non-trainable params: 0\n",
      "_________________________________________________________________\n"
     ]
    }
   ],
   "source": [
    "cur_model = create_model(16)\n",
    "cur_model.summary()"
   ]
  },
  {
   "cell_type": "code",
   "execution_count": 10,
   "metadata": {},
   "outputs": [
    {
     "data": {
      "image/png": "[encoded data removed]",
      "text/plain": [
       "<IPython.core.display.Image object>"
      ]
     },
     "execution_count": 10,
     "metadata": {},
     "output_type": "execute_result"
    }
   ],
   "source": [
    "from keras.utils.vis_utils import plot_model\n",
    "plot_model(cur_model, to_file='energy_model.png', show_shapes=True, show_layer_names=True)"
   ]
  },
  {
   "cell_type": "code",
   "execution_count": 9,
   "metadata": {},
   "outputs": [],
   "source": [
    "lr = 1e-4\n",
    "optimizer = keras.optimizers.Adam(lr)"
   ]
  },
  {
   "cell_type": "code",
   "execution_count": 10,
   "metadata": {
    "scrolled": true
   },
   "outputs": [],
   "source": [
    "ebm_model = EBM(cur_model, optimizer)\n",
    "batch_size = 128\n",
    "step_size = 1\n",
    "num_epochs = 100"
   ]
  },
  {
   "cell_type": "code",
   "execution_count": null,
   "metadata": {},
   "outputs": [],
   "source": [
    "history = ebm_model.fit(X_train_full, batch_size, num_epochs, 0.0, 1.0, num_steps_markov=tf.constant(100),\n",
    "                  var=tf.constant(0.005 ** 2), step_size=step_size, callbacks_energy=[],\n",
    "                  metrics_samples=[(\"IS\", is_metric_callback), (\"FID\", fid_metric_callback)],\n",
    "                  clip_thresh=tf.constant(1e6), save_best_weights=True, early_stopping=False, uniform_chance=0.05)"
   ]
  },
  {
   "cell_type": "markdown",
   "metadata": {},
   "source": [
    "## Sampling from the resulting model"
   ]
  },
  {
   "cell_type": "markdown",
   "metadata": {},
   "source": [
    "### Replay buffer"
   ]
  },
  {
   "cell_type": "code",
   "execution_count": null,
   "metadata": {},
   "outputs": [],
   "source": [
    "imgs = np.array(ebm_model.replay_buffer[:100])\n",
    "imgs = np.clip(imgs, 0, 1)\n",
    "img = fuse_images(10, 10, imgs, 28, 28)\n",
    "plt.figure(figsize=(10, 10))\n",
    "plt.imshow(img)\n",
    "plt.colorbar()\n",
    "plt.show()"
   ]
  },
  {
   "cell_type": "markdown",
   "metadata": {},
   "source": [
    "### SGLD"
   ]
  },
  {
   "cell_type": "code",
   "execution_count": null,
   "metadata": {},
   "outputs": [],
   "source": [
    "batch_size = 100\n",
    "x_init = tf.random.uniform((batch_size, 28, 28, 1), minval=0, maxval=1)\n",
    "imgs = sgld_sample(ebm_model.energy, x_init, tf.constant(1500), 1, 0.005 ** 2, clip_thresh=tf.constant(1e6))\n",
    "imgs = np.clip(imgs, 0, 1)\n",
    "img = fuse_images(10, 10, imgs, 28, 28)\n",
    "plt.figure(figsize=(10, 10))\n",
    "plt.imshow(img)\n",
    "plt.colorbar()\n",
    "plt.show()"
   ]
  }
 ],
 "metadata": {
  "kernelspec": {
   "display_name": "Python 3",
   "language": "python",
   "name": "python3"
  },
  "language_info": {
   "codemirror_mode": {
    "name": "ipython",
    "version": 3
   },
   "file_extension": ".py",
   "mimetype": "text/x-python",
   "name": "python",
   "nbconvert_exporter": "python",
   "pygments_lexer": "ipython3",
   "version": "3.8.5"
  }
 },
 "nbformat": 4,
 "nbformat_minor": 1
}
